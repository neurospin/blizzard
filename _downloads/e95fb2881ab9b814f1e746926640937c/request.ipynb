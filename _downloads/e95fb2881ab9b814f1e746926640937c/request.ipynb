{
  "metadata": {
    "language_info": {
      "mimetype": "text/x-python",
      "version": "3.5.2",
      "pygments_lexer": "ipython3",
      "codemirror_mode": {
        "version": 3,
        "name": "ipython"
      },
      "nbconvert_exporter": "python",
      "file_extension": ".py",
      "name": "python"
    },
    "kernelspec": {
      "language": "python",
      "name": "python3",
      "display_name": "Python 3"
    }
  },
  "nbformat": 4,
  "nbformat_minor": 0,
  "cells": [
    {
      "metadata": {
        "collapsed": false
      },
      "execution_count": null,
      "outputs": [],
      "source": [
        "%matplotlib inline"
      ],
      "cell_type": "code"
    },
    {
      "metadata": {},
      "source": [
        "\nNeuroSpin file fetcher\n======================\n\nCredit: A Grigis\n\nAll the returned path are relative as the files are usually on network\nresources, and that those resources are mounted in a user-specific location.\n\nIn order to test if the 'blizzard' package is installed on your machine,\nyou can check the package version.\n\n"
      ],
      "cell_type": "markdown"
    },
    {
      "metadata": {
        "collapsed": false
      },
      "execution_count": null,
      "outputs": [],
      "source": [
        "from pprint import pprint\nimport blizzard\nfrom blizzard import Blizzard\nprint(blizzard.__version__)"
      ],
      "cell_type": "code"
    },
    {
      "metadata": {},
      "source": [
        "Now we create a connection to the ElasticSearch service and display its\nstatus.\n\n"
      ],
      "cell_type": "markdown"
    },
    {
      "metadata": {
        "collapsed": false
      },
      "execution_count": null,
      "outputs": [],
      "source": [
        "filer = Blizzard(url=\"https://kratos.intra.cea.fr\", verify_certs=False)\ninfo = filer.status()"
      ],
      "cell_type": "code"
    },
    {
      "metadata": {},
      "source": [
        "The API provides two methods: 'list' (equivalent to a Linux ls) or 'search'\n(equivalent to a Linux find with predifined search keys). A file path\nis splitted using '_' and '/' to generate search keys.\n\nWorking with BIDS datasets\n--------------------------\n\nWe start listing all the subjects available in the Localizer dataset.\n\n"
      ],
      "cell_type": "markdown"
    },
    {
      "metadata": {
        "collapsed": false
      },
      "execution_count": null,
      "outputs": [],
      "source": [
        "subjects = filer.list(\"/localizer/sourcedata\")\npprint(subjects)"
      ],
      "cell_type": "code"
    },
    {
      "metadata": {},
      "source": [
        "We then list all the anatomical files of a specific subject in session V1.\n\n"
      ],
      "cell_type": "markdown"
    },
    {
      "metadata": {
        "collapsed": false
      },
      "execution_count": null,
      "outputs": [],
      "source": [
        "anatfiles = filer.list(\"/localizer/sourcedata/sub-S58/ses-V1/anat\")\npprint(anatfiles)"
      ],
      "cell_type": "code"
    },
    {
      "metadata": {},
      "source": [
        "We do the same using the search interface. It is not mandatory to specify\nthe session in the search as there is only one session in this study.\n\n"
      ],
      "cell_type": "markdown"
    },
    {
      "metadata": {
        "collapsed": false
      },
      "execution_count": null,
      "outputs": [],
      "source": [
        "files = filer.search([\"localizer\", \"sourcedata\", \"sub-S58\", \"anat\"])\npprint(files)"
      ],
      "cell_type": "code"
    },
    {
      "metadata": {},
      "source": [
        "Finally we list all the NIFTI T1-weighted MRI images of the study.\n\n"
      ],
      "cell_type": "markdown"
    },
    {
      "metadata": {
        "collapsed": false
      },
      "execution_count": null,
      "outputs": [],
      "source": [
        "files = filer.search([\"localizer\", \"sourcedata\", \"acq-maskface\", \"defaceT1w\",\n                      \"niigz\"])\nprint(len(files))\npprint(files[:10])"
      ],
      "cell_type": "code"
    },
    {
      "metadata": {},
      "source": [
        "Here we do the exact same but for the UKB study.\n\n"
      ],
      "cell_type": "markdown"
    },
    {
      "metadata": {
        "collapsed": false
      },
      "execution_count": null,
      "outputs": [],
      "source": [
        "subjects = filer.list(\"/ukb/sourcedata\")\npprint(subjects[:10])\nanatfiles = filer.list(\"/ukb/sourcedata/sub-6024431/ses-2/anat\")\npprint(anatfiles)\nfiles = filer.search([\"ukb\", \"sourcedata\", \"sub-6024431\", \"anat\"])\npprint(files)\nfiles = filer.search([\"ukb\", \"sourcedata\", \"T1w\", \"niigz\"])\nprint(len(files))"
      ],
      "cell_type": "code"
    },
    {
      "metadata": {},
      "source": [
        "If multiple datasets are organized using a common organization (here BIDS)\nits is really easy to make a cross study search.\n\n"
      ],
      "cell_type": "markdown"
    },
    {
      "metadata": {
        "collapsed": false
      },
      "execution_count": null,
      "outputs": [],
      "source": [
        "files = filer.search([\"sourcedata\", \"T1w\", \"niigz\"])\nprint(len(files))\npprint(files[:10])"
      ],
      "cell_type": "code"
    },
    {
      "metadata": {},
      "source": [
        "Working with custom datasets\n----------------------------\n\nWhen the dataset is not organized using well documented organization, you\nmay start listing the study tree to infer the search keys.\n\nHere is an example for the HCP dataset.\n\n"
      ],
      "cell_type": "markdown"
    },
    {
      "metadata": {
        "collapsed": false
      },
      "execution_count": null,
      "outputs": [],
      "source": [
        "subjects = filer.list(\"/hcp/PROCESSED/3T_structural_preproc\")\npprint(subjects[:10])\nanatfiles = filer.list(\"/hcp/PROCESSED/3T_structural_preproc/894673/T1w\")\npprint(anatfiles)\nfiles = filer.search([\"hcp\", \"structural\", \"preproc\", \"894673\", \"T1w\"])\nprint(len(files))\npprint(files[:10])\nfiles = filer.search([\"hcp\", \"structural\", \"preproc\", \"T1w\", \"dc\",\n                      \"brain\", \"niigz\"])\nprint(len(files))\npprint(files[:10])"
      ],
      "cell_type": "code"
    }
  ]
}